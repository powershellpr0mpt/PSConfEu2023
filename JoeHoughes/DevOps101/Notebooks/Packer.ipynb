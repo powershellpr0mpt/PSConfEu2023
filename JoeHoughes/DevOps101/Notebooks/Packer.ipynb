{
 "cells": [
  {
   "attachments": {},
   "cell_type": "markdown",
   "metadata": {},
   "source": [
    "Up next, we're moving over to Packer for building templates.\n",
    "\n",
    "Our main use case for using Packer to automate our templates/base images, whilc being able to provision for multiple environments/clouds from one workflow, along with getting us out of the business on keeping things up to date.\n",
    "\n",
    "Let's start with looking at our simple Packer build to see what we're looking at regarding variables and instructions."
   ]
  },
  {
   "cell_type": "code",
   "execution_count": 3,
   "metadata": {
    "dotnet_interactive": {
     "language": "pwsh"
    },
    "polyglot_notebook": {
     "kernelName": "pwsh"
    }
   },
   "outputs": [],
   "source": [
    "Set-Location -Path 'C:\\Code\\psconfeu\\DevOps101\\Packer'\n",
    "code variables.pkr.hcl\n",
    "code ubuntu20_04.pkrvar.hcl\n",
    "code ubuntu20_04.pkr.hcl"
   ]
  },
  {
   "attachments": {},
   "cell_type": "markdown",
   "metadata": {},
   "source": [
    "Now, for a more complicated run of a build, let's take a look at another repo."
   ]
  }
 ],
 "metadata": {
  "kernelspec": {
   "display_name": ".NET (PowerShell)",
   "language": "PowerShell",
   "name": ".net-pwsh"
  },
  "language_info": {
   "name": "polyglot-notebook"
  },
  "polyglot_notebook": {
   "kernelInfo": {
    "defaultKernelName": "pwsh",
    "items": [
     {
      "aliases": [],
      "languageName": "pwsh",
      "name": "pwsh"
     }
    ]
   }
  }
 },
 "nbformat": 4,
 "nbformat_minor": 2
}
