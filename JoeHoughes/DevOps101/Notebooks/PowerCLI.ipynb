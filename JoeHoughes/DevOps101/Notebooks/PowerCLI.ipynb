{
 "cells": [
  {
   "attachments": {},
   "cell_type": "markdown",
   "metadata": {},
   "source": [
    "Welcome to our basic PowerCLI Demo.\n",
    "\n",
    "Let's start with connecting to our environment."
   ]
  },
  {
   "cell_type": "code",
   "execution_count": 2,
   "metadata": {
    "dotnet_interactive": {
     "language": "pwsh"
    },
    "polyglot_notebook": {
     "kernelName": "pwsh"
    }
   },
   "outputs": [],
   "source": [
    "$vCenterServer = 'flashstack-vcenter.puretec.purestorage.com'\n",
    "$vCenterUser= 'administrator@vsphere.local'\n",
    "$vCenterCred = Get-Credential -UserName $vCenterUser\n",
    "Connect-VIServer -Server $vCenterServer -Credential $vCenterCred -Protocol https -ErrorAction Stop"
   ]
  },
  {
   "attachments": {},
   "cell_type": "markdown",
   "metadata": {},
   "source": [
    "Now that we're connected, let's get some vSphere objects in PowerShell."
   ]
  },
  {
   "cell_type": "code",
   "execution_count": 3,
   "metadata": {
    "dotnet_interactive": {
     "language": "pwsh"
    },
    "polyglot_notebook": {
     "kernelName": "pwsh"
    }
   },
   "outputs": [
    {
     "name": "stdout",
     "output_type": "stream",
     "text": [
      "\n",
      "\u001b[32;1mName\u001b[0m\n",
      "\u001b[32;1m----\u001b[0m\n",
      "DX-Temp\n",
      "SolutionsLab\n",
      "\n"
     ]
    }
   ],
   "source": [
    "Get-Datacenter"
   ]
  },
  {
   "cell_type": "code",
   "execution_count": 5,
   "metadata": {
    "dotnet_interactive": {
     "language": "pwsh"
    },
    "polyglot_notebook": {
     "kernelName": "pwsh"
    }
   },
   "outputs": [
    {
     "name": "stdout",
     "output_type": "stream",
     "text": [
      "\n",
      "\u001b[32;1mName                           HAEnabled  HAFailover DrsEnabled DrsAutomationLevel\u001b[0m\n",
      "\u001b[32;1m                                          Level\u001b[0m\n",
      "\u001b[32;1m----                           ---------  ---------- ---------- ------------------\u001b[0m\n",
      "DX-Cluster                     False      1          False      FullyAutomated\n",
      "MetroCluster1                  True       1          True       FullyAutomated\n",
      "Management-Cluster             True       1          True       FullyAutomated\n",
      "\n"
     ]
    }
   ],
   "source": [
    "Get-Cluster"
   ]
  },
  {
   "cell_type": "code",
   "execution_count": 6,
   "metadata": {
    "dotnet_interactive": {
     "language": "pwsh"
    },
    "polyglot_notebook": {
     "kernelName": "pwsh"
    }
   },
   "outputs": [
    {
     "name": "stdout",
     "output_type": "stream",
     "text": [
      "\n",
      "\u001b[32;1mName                 ConnectionState PowerState NumCpu CpuUsageMhz CpuTotalMhz   MemoryUsageGB Memo\u001b[0m\n",
      "\u001b[32;1m                                                                                               ryTo\u001b[0m\n",
      "\u001b[32;1m                                                                                               talG\u001b[0m\n",
      "\u001b[32;1m                                                                                                  B\u001b[0m\n",
      "\u001b[32;1m----                 --------------- ---------- ------ ----------- -----------   ------------- ----\u001b[0m\n",
      "10.21.116.52         Disconnected    Unknown        64           0      127744           0.000 …618\n",
      "fs-metclus1-esxi01.… Connected       PoweredOn      24         621       57456          31.469 …662\n",
      "fs-metclus1-esxi03.… Connected       PoweredOn      24          98       57456          20.847 …662\n",
      "fs-metclus1-esxi02.… Connected       PoweredOn      24        4451       57456          40.836 …662\n",
      "fs-metclus1-esxi04.… Connected       PoweredOn      24        2060       57456          33.590 …662\n",
      "fs-mgmt-esxi01.pure… Connected       PoweredOn      48         167      100752          13.358 …659\n",
      "fs-mgmt-esxi03.pure… Connected       PoweredOn      48       24673      100752         402.790 …659\n",
      "fs-mgmt-esxi02.pure… Connected       PoweredOn      48        8876      100752         488.113 …659\n",
      "fs-mgmt-esxi04.pure… Connected       PoweredOn      48         448      100752           7.312 …659\n",
      "\n"
     ]
    }
   ],
   "source": [
    "Get-VMHost"
   ]
  },
  {
   "attachments": {},
   "cell_type": "markdown",
   "metadata": {},
   "source": [
    "What we above is that different information is returned from these objects, obviously from the object types definitions for what is the most useful information.  If we logically know the relationship of these objects, we can determine how to use the pipeline to show information for the specific inventory that we are looking to target."
   ]
  },
  {
   "cell_type": "code",
   "execution_count": 7,
   "metadata": {
    "dotnet_interactive": {
     "language": "pwsh"
    },
    "polyglot_notebook": {
     "kernelName": "pwsh"
    }
   },
   "outputs": [
    {
     "name": "stdout",
     "output_type": "stream",
     "text": [
      "\n",
      "\u001b[32;1mName                 ConnectionState PowerState NumCpu CpuUsageMhz CpuTotalMhz   MemoryUsageGB Memo\u001b[0m\n",
      "\u001b[32;1m                                                                                               ryTo\u001b[0m\n",
      "\u001b[32;1m                                                                                               talG\u001b[0m\n",
      "\u001b[32;1m                                                                                                  B\u001b[0m\n",
      "\u001b[32;1m----                 --------------- ---------- ------ ----------- -----------   ------------- ----\u001b[0m\n",
      "fs-metclus1-esxi01.… Connected       PoweredOn      24         616       57456          31.470 …662\n",
      "fs-metclus1-esxi03.… Connected       PoweredOn      24         107       57456          20.847 …662\n",
      "fs-metclus1-esxi02.… Connected       PoweredOn      24        4332       57456          40.837 …662\n",
      "fs-metclus1-esxi04.… Connected       PoweredOn      24        2134       57456          33.590 …662\n",
      "\n"
     ]
    }
   ],
   "source": [
    "Get-Cluster -Name 'MetroCluster1' | Get-VMHost"
   ]
  },
  {
   "attachments": {},
   "cell_type": "markdown",
   "metadata": {},
   "source": [
    "If we do not know how to determine what cmdlets can be piped to each other based on the first object, we can also determine this with some basic cmdlets."
   ]
  },
  {
   "cell_type": "code",
   "execution_count": 9,
   "metadata": {
    "dotnet_interactive": {
     "language": "pwsh"
    },
    "polyglot_notebook": {
     "kernelName": "pwsh"
    }
   },
   "outputs": [
    {
     "name": "stdout",
     "output_type": "stream",
     "text": [
      "\n",
      "   TypeName: VMware.VimAutomation.ViCore.Impl.V1.Inventory.ClusterImpl\n",
      "\n",
      "\u001b[32;1mName                            MemberType Definition\u001b[0m\n",
      "\u001b[32;1m----                            ---------- ----------\u001b[0m\n",
      "ConvertToVersion                Method     T VersionedObjectInterop.ConvertToVersion[T]()\n",
      "Equals                          Method     bool Equals(System.Object obj)\n",
      "GetClient                       Method     VMware.VimAutomation.ViCore.Interop.V1.VIAutomation VIO…\n",
      "GetHashCode                     Method     int GetHashCode()\n",
      "GetType                         Method     type GetType()\n",
      "IsConvertableTo                 Method     bool VersionedObjectInterop.IsConvertableTo(type type)\n",
      "LockUpdates                     Method     void ExtensionData.LockUpdates()\n",
      "ToString                        Method     string ToString()\n",
      "UnlockUpdates                   Method     void ExtensionData.UnlockUpdates()\n",
      "BaseImage                       Property   VMware.VimAutomation.ViCore.Types.V1.Lcm.BaseImage Base…\n",
      "CollectiveHostManagementEnabled Property   bool CollectiveHostManagementEnabled {get;}\n",
      "Components                      Property   VMware.VimAutomation.ViCore.Types.V1.Lcm.Component[] Co…\n",
      "CryptoMode                      Property   System.Nullable[VMware.VimAutomation.ViCore.Types.V1.Se…\n",
      "CustomFields                    Property   System.Collections.Generic.IDictionary[string,string] C…\n",
      "DepotOverrides                  Property   uri[] DepotOverrides {get;}\n",
      "DrsAutomationLevel              Property   VMware.VimAutomation.ViCore.Types.V1.Cluster.DrsAutomat…\n",
      "DrsEnabled                      Property   bool DrsEnabled {get;}\n",
      "DrsMode                         Property   VMware.VimAutomation.ViCore.Types.V1.Cluster.DrsMode Dr…\n",
      "EVCMode                         Property   string EVCMode {get;}\n",
      "ExtensionData                   Property   System.Object ExtensionData {get;}\n",
      "HAAdmissionControlEnabled       Property   bool HAAdmissionControlEnabled {get;}\n",
      "HAAvailableSlots                Property   System.Nullable[int] HAAvailableSlots {get;}\n",
      "HAEnabled                       Property   bool HAEnabled {get;}\n",
      "HAFailoverLevel                 Property   int HAFailoverLevel {get;}\n",
      "HAIsolationResponse             Property   System.Nullable[VMware.VimAutomation.ViCore.Types.V1.Cl…\n",
      "HARestartPriority               Property   System.Nullable[VMware.VimAutomation.ViCore.Types.V1.Cl…\n",
      "HASlotCpuMHz                    Property   System.Nullable[int] HASlotCpuMHz {get;}\n",
      "HASlotMemoryGB                  Property   System.Nullable[decimal] HASlotMemoryGB {get;}\n",
      "HASlotMemoryMb                  Property   System.Nullable[int] HASlotMemoryMb {get;}\n",
      "HASlotNumVCpus                  Property   System.Nullable[int] HASlotNumVCpus {get;}\n",
      "HATotalSlots                    Property   System.Nullable[int] HATotalSlots {get;}\n",
      "HAUsedSlots                     Property   System.Nullable[int] HAUsedSlots {get;}\n",
      "Id                              Property   string Id {get;}\n",
      "Name                            Property   string Name {get;}\n",
      "ParentFolder                    Property   VMware.VimAutomation.ViCore.Types.V1.Inventory.Folder P…\n",
      "ParentId                        Property   string ParentId {get;}\n",
      "Uid                             Property   string Uid {get;}\n",
      "VendorAddOn                     Property   VMware.VimAutomation.ViCore.Types.V1.Lcm.AddOn VendorAd…\n",
      "VMSwapfilePolicy                Property   System.Nullable[VMware.VimAutomation.ViCore.Types.V1.VM…\n",
      "VsanDiskClaimMode               Property   System.Nullable[VMware.VimAutomation.ViCore.Types.V1.Vs…\n",
      "VsanEnabled                     Property   System.Nullable[bool] VsanEnabled {get;}\n",
      "VsanEsaEnabled                  Property   System.Nullable[bool] VsanEsaEnabled {get;}\n",
      "\n"
     ]
    }
   ],
   "source": [
    "Get-Cluster -Name 'MetroCluster1' | Get-Member"
   ]
  },
  {
   "attachments": {},
   "cell_type": "markdown",
   "metadata": {},
   "source": [
    "Now we take the object type returned from our object (a vSphere cluster in this instance), and use this as our `ParameterType` property of `Get-Command`."
   ]
  },
  {
   "cell_type": "code",
   "execution_count": 10,
   "metadata": {
    "dotnet_interactive": {
     "language": "pwsh"
    },
    "polyglot_notebook": {
     "kernelName": "pwsh"
    }
   },
   "outputs": [
    {
     "name": "stdout",
     "output_type": "stream",
     "text": [
      "\n",
      "\u001b[32;1mCommandType     Name                                               Version    Source\u001b[0m\n",
      "\u001b[32;1m-----------     ----                                               -------    ------\u001b[0m\n",
      "Alias           Apply-VMHostProfile                                13.0.0.20… VMware.VimAutomation…\n",
      "Cmdlet          Add-VMHost                                         13.0.0.20… VMware.VimAutomation…\n",
      "Cmdlet          Export-LcmClusterDesiredState                      13.0.0.20… VMware.VimAutomation…\n",
      "Cmdlet          Get-AdvancedSetting                                13.0.0.20… VMware.VimAutomation…\n",
      "Cmdlet          Get-AlarmDefinition                                13.0.0.20… VMware.VimAutomation…\n",
      "Cmdlet          Get-Annotation                                     13.0.0.20… VMware.VimAutomation…\n",
      "Cmdlet          Get-Cluster                                        13.0.0.20… VMware.VimAutomation…\n",
      "Cmdlet          Get-Datacenter                                     13.0.0.20… VMware.VimAutomation…\n",
      "Cmdlet          Get-Datastore                                      13.0.0.20… VMware.VimAutomation…\n",
      "Cmdlet          Get-DatastoreCluster                               13.0.0.20… VMware.VimAutomation…\n",
      "Cmdlet          Get-DrsClusterGroup                                13.0.0.20… VMware.VimAutomation…\n",
      "Cmdlet          Get-DrsRecommendation                              13.0.0.20… VMware.VimAutomation…\n",
      "Cmdlet          Get-DrsRule                                        13.0.0.20… VMware.VimAutomation…\n",
      "Cmdlet          Get-DrsVMHostRule                                  13.0.0.20… VMware.VimAutomation…\n",
      "Cmdlet          Get-Folder                                         13.0.0.20… VMware.VimAutomation…\n",
      "Cmdlet          Get-HAPrimaryVMHost                                13.0.0.20… VMware.VimAutomation…\n",
      "Cmdlet          Get-Inventory                                      13.0.0.20… VMware.VimAutomation…\n",
      "Cmdlet          Get-LcmClusterDesiredStateRecommendation           13.0.0.20… VMware.VimAutomation…\n",
      "Cmdlet          Get-LcmHardwareCompatibility                       13.0.0.20… VMware.VimAutomation…\n",
      "Cmdlet          Get-OvfConfiguration                               13.0.0.20… VMware.VimAutomation…\n",
      "Cmdlet          Get-ResourcePool                                   13.0.0.20… VMware.VimAutomation…\n",
      "Cmdlet          Get-Stat                                           13.0.0.20… VMware.VimAutomation…\n",
      "Cmdlet          Get-StatType                                       13.0.0.20… VMware.VimAutomation…\n",
      "Cmdlet          Get-TagAssignment                                  13.0.0.20… VMware.VimAutomation…\n",
      "Cmdlet          Get-Template                                       13.0.0.20… VMware.VimAutomation…\n",
      "Cmdlet          Get-VApp                                           13.0.0.20… VMware.VimAutomation…\n",
      "Cmdlet          Get-VIEvent                                        13.0.0.20… VMware.VimAutomation…\n",
      "Cmdlet          Get-View                                           13.0.0.20… VMware.VimAutomation…\n",
      "Cmdlet          Get-VIPermission                                   13.0.0.20… VMware.VimAutomation…\n",
      "Cmdlet          Get-VirtualNetwork                                 13.0.0.20… VMware.VimAutomation…\n",
      "Cmdlet          Get-VM                                             13.0.0.20… VMware.VimAutomation…\n",
      "Cmdlet          Get-VMHost                                         13.0.0.20… VMware.VimAutomation…\n",
      "Cmdlet          Get-VMHostProfile                                  13.0.0.20… VMware.VimAutomation…\n",
      "Cmdlet          Import-LcmClusterDesiredState                      13.0.0.20… VMware.VimAutomation…\n",
      "Cmdlet          Import-VApp                                        13.0.0.20… VMware.VimAutomation…\n",
      "Cmdlet          Invoke-VMHostProfile                               13.0.0.20… VMware.VimAutomation…\n",
      "Cmdlet          Move-Cluster                                       13.0.0.20… VMware.VimAutomation…\n",
      "Cmdlet          Move-Datacenter                                    13.0.0.20… VMware.VimAutomation…\n",
      "Cmdlet          Move-Datastore                                     13.0.0.20… VMware.VimAutomation…\n",
      "Cmdlet          Move-Folder                                        13.0.0.20… VMware.VimAutomation…\n",
      "Cmdlet          Move-Inventory                                     13.0.0.20… VMware.VimAutomation…\n",
      "Cmdlet          Move-ResourcePool                                  13.0.0.20… VMware.VimAutomation…\n",
      "Cmdlet          Move-Template                                      13.0.0.20… VMware.VimAutomation…\n",
      "Cmdlet          Move-VApp                                          13.0.0.20… VMware.VimAutomation…\n",
      "Cmdlet          Move-VM                                            13.0.0.20… VMware.VimAutomation…\n",
      "Cmdlet          Move-VMHost                                        13.0.0.20… VMware.VimAutomation…\n",
      "Cmdlet          New-AdvancedSetting                                13.0.0.20… VMware.VimAutomation…\n",
      "Cmdlet          New-AlarmDefinition                                13.0.0.20… VMware.VimAutomation…\n",
      "Cmdlet          New-Cluster                                        13.0.0.20… VMware.VimAutomation…\n",
      "Cmdlet          New-ContentLibraryItem                             13.0.0.20… VMware.VimAutomation…\n",
      "Cmdlet          New-Datacenter                                     13.0.0.20… VMware.VimAutomation…\n",
      "Cmdlet          New-DatastoreCluster                               13.0.0.20… VMware.VimAutomation…\n",
      "Cmdlet          New-DrsClusterGroup                                13.0.0.20… VMware.VimAutomation…\n",
      "Cmdlet          New-DrsRule                                        13.0.0.20… VMware.VimAutomation…\n",
      "Cmdlet          New-DrsVMHostRule                                  13.0.0.20… VMware.VimAutomation…\n",
      "Cmdlet          New-Folder                                         13.0.0.20… VMware.VimAutomation…\n",
      "Cmdlet          New-ResourcePool                                   13.0.0.20… VMware.VimAutomation…\n",
      "Cmdlet          New-TagAssignment                                  13.0.0.20… VMware.VimAutomation…\n",
      "Cmdlet          New-Template                                       13.0.0.20… VMware.VimAutomation…\n",
      "Cmdlet          New-VApp                                           13.0.0.20… VMware.VimAutomation…\n",
      "Cmdlet          New-VIPermission                                   13.0.0.20… VMware.VimAutomation…\n",
      "Cmdlet          New-VM                                             13.0.0.20… VMware.VimAutomation…\n",
      "Cmdlet          Remove-Cluster                                     13.0.0.20… VMware.VimAutomation…\n",
      "Cmdlet          Remove-Inventory                                   13.0.0.20… VMware.VimAutomation…\n",
      "Cmdlet          Remove-VMHostProfile                               13.0.0.20… VMware.VimAutomation…\n",
      "Cmdlet          Set-Annotation                                     13.0.0.20… VMware.VimAutomation…\n",
      "Cmdlet          Set-Cluster                                        13.0.0.20… VMware.VimAutomation…\n",
      "Cmdlet          Test-LcmClusterCompliance                          13.0.0.20… VMware.VimAutomation…\n",
      "Cmdlet          Test-LcmClusterHealth                              13.0.0.20… VMware.VimAutomation…\n",
      "\n"
     ]
    }
   ],
   "source": [
    "Get-Command -ParameterType 'VMware.VimAutomation.ViCore.Impl.V1.Inventory.ClusterImpl'"
   ]
  },
  {
   "attachments": {},
   "cell_type": "markdown",
   "metadata": {},
   "source": [
    "Now, as we look to get more performance within our code for woorking with VMware vSphere, we want to use the data that is returned raw from vSphere (similar to a query directly to the API). This which will remove much of the overhead of using the PowerCLI cmdlets which will return a .NET flavored object, plus requires additional formatting to convert to output we would expect from PowerShell.\n",
    "\n",
    "Before we are ready to rewrite all of our code, we can see this information within the results of the same PowerCLI cmdlets to get our vSphere inventory objects, and this is under the 'ExtensionData' property.\n",
    "\n",
    "Let's start by getting a vSphere VM and seeing what details are available."
   ]
  },
  {
   "cell_type": "code",
   "execution_count": 11,
   "metadata": {
    "dotnet_interactive": {
     "language": "pwsh"
    },
    "polyglot_notebook": {
     "kernelName": "pwsh"
    }
   },
   "outputs": [
    {
     "name": "stdout",
     "output_type": "stream",
     "text": [
      "\n",
      "\u001b[32;1mCapability           : \u001b[0mVMware.Vim.VirtualMachineCapability\n",
      "\u001b[32;1mConfig               : \u001b[0mVMware.Vim.VirtualMachineConfigInfo\n",
      "\u001b[32;1mLayout               : \u001b[0mVMware.Vim.VirtualMachineFileLayout\n",
      "\u001b[32;1mLayoutEx             : \u001b[0mVMware.Vim.VirtualMachineFileLayoutEx\n",
      "\u001b[32;1mStorage              : \u001b[0mVMware.Vim.VirtualMachineStorageInfo\n",
      "\u001b[32;1mEnvironmentBrowser   : \u001b[0mEnvironmentBrowser-envbrowser-1815\n",
      "\u001b[32;1mResourcePool         : \u001b[0mResourcePool-resgroup-804077\n",
      "\u001b[32;1mParentVApp           : \u001b[0m\n",
      "\u001b[32;1mResourceConfig       : \u001b[0mVMware.Vim.ResourceConfigSpec\n",
      "\u001b[32;1mRuntime              : \u001b[0mVMware.Vim.VirtualMachineRuntimeInfo\n",
      "\u001b[32;1mGuest                : \u001b[0mVMware.Vim.GuestInfo\n",
      "\u001b[32;1mSummary              : \u001b[0mVMware.Vim.VirtualMachineSummary\n",
      "\u001b[32;1mDatastore            : \u001b[0m{Datastore-datastore-804098}\n",
      "\u001b[32;1mNetwork              : \u001b[0m{DistributedVirtualPortgroup-dvportgroup-64}\n",
      "\u001b[32;1mSnapshot             : \u001b[0m\n",
      "\u001b[32;1mRootSnapshot         : \u001b[0m{}\n",
      "\u001b[32;1mGuestHeartbeatStatus : \u001b[0mgreen\n",
      "\u001b[32;1mLinkedView           : \u001b[0m\n",
      "\u001b[32;1mParent               : \u001b[0mFolder-group-v56\n",
      "\u001b[32;1mCustomValue          : \u001b[0m{}\n",
      "\u001b[32;1mOverallStatus        : \u001b[0mgreen\n",
      "\u001b[32;1mConfigStatus         : \u001b[0mgreen\n",
      "\u001b[32;1mConfigIssue          : \u001b[0m{}\n",
      "\u001b[32;1mEffectiveRole        : \u001b[0m{-1}\n",
      "\u001b[32;1mPermission           : \u001b[0m{}\n",
      "\u001b[32;1mName                 : \u001b[0mrecord-jump\n",
      "\u001b[32;1mDisabledMethod       : \u001b[0m{Destroy_Task, UnregisterVM, UnmountToolsInstaller, AnswerVM…}\n",
      "\u001b[32;1mRecentTask           : \u001b[0m{}\n",
      "\u001b[32;1mDeclaredAlarmState   : \u001b[0m{alarm-10.vm-1815, alarm-112.vm-1815, alarm-12.vm-1815, alarm-128.vm-1815…}\n",
      "\u001b[32;1mTriggeredAlarmState  : \u001b[0m{}\n",
      "\u001b[32;1mAlarmActionsEnabled  : \u001b[0mTrue\n",
      "\u001b[32;1mTag                  : \u001b[0m{}\n",
      "\u001b[32;1mValue                : \u001b[0m{}\n",
      "\u001b[32;1mAvailableField       : \u001b[0m{com.vrlcm.snapshot}\n",
      "\u001b[32;1mMoRef                : \u001b[0mVirtualMachine-vm-1815\n",
      "\u001b[32;1mClient               : \u001b[0mVMware.Vim.VimClientImpl\n",
      "\n",
      "\n"
     ]
    }
   ],
   "source": [
    "$DemoVM = Get-VM -Name 'record-jump'\n",
    "$DemoVM.ExtensionData"
   ]
  },
  {
   "attachments": {},
   "cell_type": "markdown",
   "metadata": {},
   "source": [
    "The results that are returned from the 'ExtensionData' property are very close to the information that is returned from the RestAPI, and these properties are listed in a more categorical view.  Let's look at the information that is returned about the configuration information of the virtual machine."
   ]
  },
  {
   "cell_type": "code",
   "execution_count": 12,
   "metadata": {
    "dotnet_interactive": {
     "language": "pwsh"
    },
    "polyglot_notebook": {
     "kernelName": "pwsh"
    }
   },
   "outputs": [
    {
     "name": "stdout",
     "output_type": "stream",
     "text": [
      "\n",
      "\u001b[32;1mChangeVersion                : \u001b[0m2023-06-17T01:17:58.472993Z\n",
      "\u001b[32;1mModified                     : \u001b[0m1/1/1970 12:00:00 AM\n",
      "\u001b[32;1mName                         : \u001b[0mrecord-jump\n",
      "\u001b[32;1mGuestFullName                : \u001b[0mMicrosoft Windows 10 (64-bit)\n",
      "\u001b[32;1mVersion                      : \u001b[0mvmx-19\n",
      "\u001b[32;1mUuid                         : \u001b[0m4223d0fb-f5ff-274a-3113-c812614c4c40\n",
      "\u001b[32;1mCreateDate                   : \u001b[0m1/13/2023 5:55:33 PM\n",
      "\u001b[32;1mInstanceUuid                 : \u001b[0m50232c12-483d-ccae-a37f-a81ae3b58d12\n",
      "\u001b[32;1mNpivNodeWorldWideName        : \u001b[0m\n",
      "\u001b[32;1mNpivPortWorldWideName        : \u001b[0m\n",
      "\u001b[32;1mNpivWorldWideNameType        : \u001b[0m\n",
      "\u001b[32;1mNpivDesiredNodeWwns          : \u001b[0m\n",
      "\u001b[32;1mNpivDesiredPortWwns          : \u001b[0m\n",
      "\u001b[32;1mNpivTemporaryDisabled        : \u001b[0mTrue\n",
      "\u001b[32;1mNpivOnNonRdmDisks            : \u001b[0m\n",
      "\u001b[32;1mLocationId                   : \u001b[0m564d15c5-6eb3-47c5-cad3-0f93a0d6574d\n",
      "\u001b[32;1mTemplate                     : \u001b[0mFalse\n",
      "\u001b[32;1mGuestId                      : \u001b[0mwindows9_64Guest\n",
      "\u001b[32;1mAlternateGuestName           : \u001b[0m\n",
      "\u001b[32;1mAnnotation                   : \u001b[0m\n",
      "\u001b[32;1mFiles                        : \u001b[0mVMware.Vim.VirtualMachineFileInfo\n",
      "\u001b[32;1mTools                        : \u001b[0mVMware.Vim.ToolsConfigInfo\n",
      "\u001b[32;1mFlags                        : \u001b[0mVMware.Vim.VirtualMachineFlagInfo\n",
      "\u001b[32;1mConsolePreferences           : \u001b[0m\n",
      "\u001b[32;1mDefaultPowerOps              : \u001b[0mVMware.Vim.VirtualMachineDefaultPowerOpInfo\n",
      "\u001b[32;1mRebootPowerOff               : \u001b[0m\n",
      "\u001b[32;1mHardware                     : \u001b[0mVMware.Vim.VirtualHardware\n",
      "\u001b[32;1mVcpuConfig                   : \u001b[0m\n",
      "\u001b[32;1mCpuAllocation                : \u001b[0mVMware.Vim.ResourceAllocationInfo\n",
      "\u001b[32;1mMemoryAllocation             : \u001b[0mVMware.Vim.ResourceAllocationInfo\n",
      "\u001b[32;1mLatencySensitivity           : \u001b[0mVMware.Vim.LatencySensitivity\n",
      "\u001b[32;1mMemoryHotAddEnabled          : \u001b[0mFalse\n",
      "\u001b[32;1mCpuHotAddEnabled             : \u001b[0mFalse\n",
      "\u001b[32;1mCpuHotRemoveEnabled          : \u001b[0mFalse\n",
      "\u001b[32;1mHotPlugMemoryLimit           : \u001b[0m8192\n",
      "\u001b[32;1mHotPlugMemoryIncrementSize   : \u001b[0m0\n",
      "\u001b[32;1mCpuAffinity                  : \u001b[0m\n",
      "\u001b[32;1mMemoryAffinity               : \u001b[0m\n",
      "\u001b[32;1mNetworkShaper                : \u001b[0m\n",
      "\u001b[32;1mExtraConfig                  : \u001b[0m{tools.guest.desktop.autolock, nvram, svga.present, \n",
      "                               pciBridge0.present…}\n",
      "\u001b[32;1mCpuFeatureMask               : \u001b[0m\n",
      "\u001b[32;1mDatastoreUrl                 : \u001b[0m{Metro_Cluster1_Prod01}\n",
      "\u001b[32;1mSwapPlacement                : \u001b[0minherit\n",
      "\u001b[32;1mBootOptions                  : \u001b[0mVMware.Vim.VirtualMachineBootOptions\n",
      "\u001b[32;1mFtInfo                       : \u001b[0m\n",
      "\u001b[32;1mRepConfig                    : \u001b[0m\n",
      "\u001b[32;1mVAppConfig                   : \u001b[0m\n",
      "\u001b[32;1mVAssertsEnabled              : \u001b[0mFalse\n",
      "\u001b[32;1mChangeTrackingEnabled        : \u001b[0mFalse\n",
      "\u001b[32;1mFirmware                     : \u001b[0mefi\n",
      "\u001b[32;1mMaxMksConnections            : \u001b[0m40\n",
      "\u001b[32;1mGuestAutoLockEnabled         : \u001b[0mFalse\n",
      "\u001b[32;1mManagedBy                    : \u001b[0m\n",
      "\u001b[32;1mMemoryReservationLockedToMax : \u001b[0mFalse\n",
      "\u001b[32;1mInitialOverhead              : \u001b[0mVMware.Vim.VirtualMachineConfigInfoOverheadInfo\n",
      "\u001b[32;1mNestedHVEnabled              : \u001b[0mFalse\n",
      "\u001b[32;1mVPMCEnabled                  : \u001b[0mFalse\n",
      "\u001b[32;1mScheduledHardwareUpgradeInfo : \u001b[0mVMware.Vim.ScheduledHardwareUpgradeInfo\n",
      "\u001b[32;1mForkConfigInfo               : \u001b[0m\n",
      "\u001b[32;1mVFlashCacheReservation       : \u001b[0m\n",
      "\u001b[32;1mVmxConfigChecksum            : \u001b[0m{131, 93, 211, 49…}\n",
      "\u001b[32;1mMessageBusTunnelEnabled      : \u001b[0mFalse\n",
      "\u001b[32;1mVmStorageObjectId            : \u001b[0m\n",
      "\u001b[32;1mSwapStorageObjectId          : \u001b[0m\n",
      "\u001b[32;1mKeyId                        : \u001b[0m\n",
      "\u001b[32;1mGuestIntegrityInfo           : \u001b[0mVMware.Vim.VirtualMachineGuestIntegrityInfo\n",
      "\u001b[32;1mMigrateEncryption            : \u001b[0mopportunistic\n",
      "\u001b[32;1mSgxInfo                      : \u001b[0mVMware.Vim.VirtualMachineSgxInfo\n",
      "\u001b[32;1mContentLibItemInfo           : \u001b[0m\n",
      "\u001b[32;1mFtEncryptionMode             : \u001b[0mftEncryptionOpportunistic\n",
      "\u001b[32;1mGuestMonitoringModeInfo      : \u001b[0mVMware.Vim.VirtualMachineGuestMonitoringModeInfo\n",
      "\u001b[32;1mSevEnabled                   : \u001b[0mFalse\n",
      "\u001b[32;1mNumaInfo                     : \u001b[0m\n",
      "\u001b[32;1mPmemFailoverEnabled          : \u001b[0mFalse\n",
      "\u001b[32;1mVmxStatsCollectionEnabled    : \u001b[0m\n",
      "\u001b[32;1mVmOpNotificationToAppEnabled : \u001b[0mFalse\n",
      "\u001b[32;1mVmOpNotificationTimeout      : \u001b[0m\n",
      "\u001b[32;1mDeviceSwap                   : \u001b[0m\n",
      "\u001b[32;1mPmem                         : \u001b[0m\n",
      "\u001b[32;1mDeviceGroups                 : \u001b[0m\n",
      "\n",
      "\n"
     ]
    }
   ],
   "source": [
    "$DemoVM.ExtensionData.Config"
   ]
  },
  {
   "attachments": {},
   "cell_type": "markdown",
   "metadata": {},
   "source": [
    "Now, if we want to return simply the creaton date of the virtual machone, we can obviously return just this property, which will show us how late I was updating my demos this morning..."
   ]
  },
  {
   "cell_type": "code",
   "execution_count": 13,
   "metadata": {
    "dotnet_interactive": {
     "language": "pwsh"
    },
    "polyglot_notebook": {
     "kernelName": "pwsh"
    }
   },
   "outputs": [
    {
     "name": "stdout",
     "output_type": "stream",
     "text": [
      "\n",
      "Friday, January 13, 2023 5:55:33 PM\n",
      "\n"
     ]
    }
   ],
   "source": [
    "$DemoVM.ExtensionData.Config.CreateDate"
   ]
  },
  {
   "attachments": {},
   "cell_type": "markdown",
   "metadata": {},
   "source": [
    "Now, if we want an easier time in seeing what information if available to us about this vSphere inventory object, we can use a fabulous cmdlet from Lee Holmes which is `Show-Object`.  (Found in the 'PowerShellCookbook' module on the PSGallery)"
   ]
  },
  {
   "cell_type": "code",
   "execution_count": null,
   "metadata": {
    "dotnet_interactive": {
     "language": "pwsh"
    },
    "polyglot_notebook": {
     "kernelName": "pwsh"
    }
   },
   "outputs": [],
   "source": [
    "$DemoVM | Show-Object"
   ]
  }
 ],
 "metadata": {
  "kernelspec": {
   "display_name": ".NET (PowerShell)",
   "language": "PowerShell",
   "name": ".net-pwsh"
  },
  "language_info": {
   "name": "polyglot-notebook"
  },
  "polyglot_notebook": {
   "kernelInfo": {
    "defaultKernelName": "pwsh",
    "items": [
     {
      "aliases": [],
      "languageName": "pwsh",
      "name": "pwsh"
     }
    ]
   }
  }
 },
 "nbformat": 4,
 "nbformat_minor": 2
}
