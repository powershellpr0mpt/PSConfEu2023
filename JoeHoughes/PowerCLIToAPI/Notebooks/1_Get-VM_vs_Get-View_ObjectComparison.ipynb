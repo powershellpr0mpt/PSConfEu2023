{
 "cells": [
  {
   "attachments": {},
   "cell_type": "markdown",
   "metadata": {},
   "source": [
    "Now that we have seen some of the differences in performance between the .NET and vSphere objects returned by PowerCLI, we will dig in a bit further to what these objects contain.\n",
    "\n",
    "This entire vSphere complex object is also contained within the \"ExtensionData\" property of the .NET object returned from `Get-VM`.\n",
    "\n",
    "This is unknown to many PowerCLI users, but this is a significant part of why getting the .NET object takes so long to get.\n",
    "\n",
    "Let's start with connecting to our environment."
   ]
  },
  {
   "cell_type": "code",
   "execution_count": 2,
   "metadata": {
    "dotnet_interactive": {
     "language": "pwsh"
    },
    "polyglot_notebook": {
     "kernelName": "pwsh"
    }
   },
   "outputs": [],
   "source": [
    "$vCenterServer = 'flashstack-vcenter.puretec.purestorage.com'\n",
    "$vCenterUser= 'administrator@vsphere.local'\n",
    "$vCenterCred = Get-Credential -UserName $vCenterUser\n",
    "Connect-VIServer -Server $vCenterServer -Credential $vCenterCred -Protocol https -ErrorAction Stop"
   ]
  },
  {
   "attachments": {},
   "cell_type": "markdown",
   "metadata": {},
   "source": [
    "Now that we're connected, see how long it takes for us to use `Get-VM` to return a .NET object of a virtual machine.\n",
    "\n",
    "As this is intended to be an object returned to some expecting to see it as a typical PowerShell object, it will have a predefined set of properties returned."
   ]
  },
  {
   "cell_type": "code",
   "execution_count": 3,
   "metadata": {
    "dotnet_interactive": {
     "language": "pwsh"
    },
    "polyglot_notebook": {
     "kernelName": "pwsh"
    }
   },
   "outputs": [
    {
     "name": "stdout",
     "output_type": "stream",
     "text": [
      "\n",
      "\u001b[32;1mName                 PowerState Num CPUs MemoryGB\u001b[0m\n",
      "\u001b[32;1m----                 ---------- -------- --------\u001b[0m\n",
      "win-jump             PoweredOn  2        8.000\n",
      "\n"
     ]
    }
   ],
   "source": [
    "#Get-VM : .NET Objects\n",
    "$VMs = Get-VM\n",
    "$dotNetVM = $VMs | Where-Object { $_.Name -eq 'win-jump' }\n",
    "$dotNetVM"
   ]
  },
  {
   "attachments": {},
   "cell_type": "markdown",
   "metadata": {},
   "source": [
    "We will then take a look at all of the properties returned."
   ]
  },
  {
   "cell_type": "code",
   "execution_count": 4,
   "metadata": {
    "dotnet_interactive": {
     "language": "pwsh"
    },
    "polyglot_notebook": {
     "kernelName": "pwsh"
    }
   },
   "outputs": [
    {
     "name": "stdout",
     "output_type": "stream",
     "text": [
      "\n",
      "\u001b[93mWARNING: The 'Version' property of VirtualMachine type is deprecated. Use the 'HardwareVersion' property instead.\u001b[0m\n",
      "\u001b[32;1mName                    : \u001b[0mwin-jump\n",
      "\u001b[32;1mPowerState              : \u001b[0mPoweredOn\n",
      "\u001b[32;1mNotes                   : \u001b[0m\n",
      "\u001b[32;1mGuest                   : \u001b[0mwin-jump:Microsoft Windows Server 2019 (64-bit)\n",
      "\u001b[32;1mNumCpu                  : \u001b[0m2\n",
      "\u001b[32;1mCoresPerSocket          : \u001b[0m2\n",
      "\u001b[32;1mMemoryMB                : \u001b[0m8192\n",
      "\u001b[32;1mMemoryGB                : \u001b[0m8\n",
      "\u001b[32;1mVMHostId                : \u001b[0mHostSystem-host-804089\n",
      "\u001b[32;1mVMHost                  : \u001b[0mfs-metclus1-esxi02.puretec.purestorage.com\n",
      "\u001b[32;1mVApp                    : \u001b[0m\n",
      "\u001b[32;1mFolderId                : \u001b[0mFolder-group-v56\n",
      "\u001b[32;1mFolder                  : \u001b[0mFS-Joe\n",
      "\u001b[32;1mResourcePoolId          : \u001b[0mResourcePool-resgroup-804077\n",
      "\u001b[32;1mResourcePool            : \u001b[0mResources\n",
      "\u001b[32;1mHARestartPriority       : \u001b[0mClusterRestartPriority\n",
      "\u001b[32;1mHAIsolationResponse     : \u001b[0mAsSpecifiedByCluster\n",
      "\u001b[32;1mDrsAutomationLevel      : \u001b[0mAsSpecifiedByCluster\n",
      "\u001b[32;1mVMSwapfilePolicy        : \u001b[0mInherit\n",
      "\u001b[32;1mVMResourceConfiguration : \u001b[0mCpuShares:Normal/2000 MemShares:Normal/81920\n",
      "\u001b[32;1mVersion                 : \u001b[0mUnknown\n",
      "\u001b[32;1mHardwareVersion         : \u001b[0mvmx-17\n",
      "\u001b[32;1mPersistentId            : \u001b[0m5029ac95-568f-0c9b-8025-696f254c5050\n",
      "\u001b[32;1mGuestId                 : \u001b[0mwindows2019srv_64Guest\n",
      "\u001b[32;1mUsedSpaceGB             : \u001b[0m144.41466575115919113159179688\n",
      "\u001b[32;1mProvisionedSpaceGB      : \u001b[0m158.09240064118057489395141602\n",
      "\u001b[32;1mDatastoreIdList         : \u001b[0m{Datastore-datastore-804098}\n",
      "\u001b[32;1mCreateDate              : \u001b[0m8/6/2021 7:33:29 PM\n",
      "\u001b[32;1mSEVEnabled              : \u001b[0mFalse\n",
      "\u001b[32;1mBootDelayMillisecond    : \u001b[0m10000\n",
      "\u001b[32;1mMigrationEncryption     : \u001b[0mOpportunistic\n",
      "\u001b[32;1mMemoryHotAddEnabled     : \u001b[0mFalse\n",
      "\u001b[32;1mMemoryHotAddIncrement   : \u001b[0m0\n",
      "\u001b[32;1mMemoryHotAddLimit       : \u001b[0m8192\n",
      "\u001b[32;1mCpuHotAddEnabled        : \u001b[0mFalse\n",
      "\u001b[32;1mCpuHotRemoveEnabled     : \u001b[0mFalse\n",
      "\u001b[32;1mExtensionData           : \u001b[0mVMware.Vim.VirtualMachine\n",
      "\u001b[32;1mCustomFields            : \u001b[0m{[com.vrlcm.snapshot, ]}\n",
      "\u001b[32;1mId                      : \u001b[0mVirtualMachine-vm-803039\n",
      "\u001b[32;1mUid                     : \u001b[0m/VIServer=vsphere.local\\administrator@flashstack-vcenter.puretec.purestor\n",
      "                          age.com:443/VirtualMachine=VirtualMachine-vm-803039/\n",
      "\n",
      "\n"
     ]
    }
   ],
   "source": [
    "$dotNetVM | Format-List -Property *"
   ]
  },
  {
   "attachments": {},
   "cell_type": "markdown",
   "metadata": {},
   "source": [
    "Finally, we will open up the snapshot information about the virtual machines, which we will find under the `ExtensionData` property.\n",
    "\n",
    "We will compare this to our vSphere object in a few steps:"
   ]
  },
  {
   "cell_type": "code",
   "execution_count": 5,
   "metadata": {
    "dotnet_interactive": {
     "language": "pwsh"
    },
    "polyglot_notebook": {
     "kernelName": "pwsh"
    }
   },
   "outputs": [
    {
     "name": "stdout",
     "output_type": "stream",
     "text": [
      "\n",
      "\u001b[32;1mName                  Snapshot\u001b[0m\n",
      "\u001b[32;1m----                  --------\u001b[0m\n",
      "orc-node2             {[FlashStack-Prod] orc-node2/orc-node2-Snapshot1.vmsn, [FlashStack-Prod] orc…\n",
      "orc-node1             {[FlashStack-Prod] orc-node1/orc-node1-Snapshot1.vmsn, [FlashStack-Prod] orc…\n",
      "postgresdb-test       {[FlashStack-Prod] postgresdb-test_1/postgresdb-test-Snapshot1.vmsn, [FlashS…\n",
      "fs-victoriametricslab {[FlashStack-Prod] fs-victoriametricslab/fs-victoriametricslab-Snapshot1.vms…\n",
      "fs-prometheuslab      {[FlashStack-Prod] fs-prometheuslab/fs-prometheuslab-Snapshot1.vmsn, [FlashS…\n",
      "FlashStack-VC         {[FlashStack-Prod] FlashStack-VC/FlashStack-VC-Snapshot1.vmsn, [FlashStack-P…\n",
      "intersight-app        {[Metro_Cluster1_Prod02] intersight-app/intersight-app-Snapshot1.vmsn, [Metr…\n",
      "fs-linjmp01           {[FlashStack-Misc] fs-linjmp01/fs-linjmp01-Snapshot1.vmsn, [FlashStack-Misc]…\n",
      "FS-WinJmp1            {[FlashStack-Misc] FS-WinJmp1/FS-WinJmp1-Snapshot1.vmsn, [FlashStack-Misc] F…\n",
      "fs-vidm               {[FlashStack-Prod] fs-vidm/fs-vidm-Snapshot1.vmsn, [FlashStack-Prod] fs-vidm…\n",
      "fs-vrlscm             {[FlashStack-Misc] fs-vrlscm/fs-vrlscm-Snapshot2.vmsn, [FlashStack-Misc] fs-…\n",
      "fs-vra                {[FlashStack-Prod] fs-vra/fs-vra-Snapshot1.vmsn, [FlashStack-Prod] fs-vra/fs…\n",
      "fslab-ad              {[FlashStack_ISO_ContLib] fslab-ad/fslab-ad-Snapshot1.vmsn, [FlashStack_ISO_…\n",
      "\n"
     ]
    }
   ],
   "source": [
    "$VMs | Select-Object Name, @{n = 'Snapshot'; e = {($_.ExtensionData.Layout.Snapshot).SnapshotFile}} | `\n",
    "Where-Object Snapshot"
   ]
  },
  {
   "attachments": {},
   "cell_type": "markdown",
   "metadata": {},
   "source": [
    "Now that we have looked at our .NET object, we will use `Get-View` to return a vSphere object of a virtual machine, which essentially gives us our API view of the object.\n",
    "\n",
    "We will see that the properties around snapshots match the details from `Get-VM`, but with much better performance."
   ]
  },
  {
   "cell_type": "code",
   "execution_count": 6,
   "metadata": {
    "dotnet_interactive": {
     "language": "pwsh"
    },
    "polyglot_notebook": {
     "kernelName": "pwsh"
    }
   },
   "outputs": [
    {
     "name": "stdout",
     "output_type": "stream",
     "text": [
      "\n",
      "\u001b[32;1mCapability           : \u001b[0mVMware.Vim.VirtualMachineCapability\n",
      "\u001b[32;1mConfig               : \u001b[0mVMware.Vim.VirtualMachineConfigInfo\n",
      "\u001b[32;1mLayout               : \u001b[0mVMware.Vim.VirtualMachineFileLayout\n",
      "\u001b[32;1mLayoutEx             : \u001b[0mVMware.Vim.VirtualMachineFileLayoutEx\n",
      "\u001b[32;1mStorage              : \u001b[0mVMware.Vim.VirtualMachineStorageInfo\n",
      "\u001b[32;1mEnvironmentBrowser   : \u001b[0mEnvironmentBrowser-envbrowser-803039\n",
      "\u001b[32;1mResourcePool         : \u001b[0mResourcePool-resgroup-804077\n",
      "\u001b[32;1mParentVApp           : \u001b[0m\n",
      "\u001b[32;1mResourceConfig       : \u001b[0mVMware.Vim.ResourceConfigSpec\n",
      "\u001b[32;1mRuntime              : \u001b[0mVMware.Vim.VirtualMachineRuntimeInfo\n",
      "\u001b[32;1mGuest                : \u001b[0mVMware.Vim.GuestInfo\n",
      "\u001b[32;1mSummary              : \u001b[0mVMware.Vim.VirtualMachineSummary\n",
      "\u001b[32;1mDatastore            : \u001b[0m{Datastore-datastore-804098}\n",
      "\u001b[32;1mNetwork              : \u001b[0m{DistributedVirtualPortgroup-dvportgroup-64}\n",
      "\u001b[32;1mSnapshot             : \u001b[0m\n",
      "\u001b[32;1mRootSnapshot         : \u001b[0m{}\n",
      "\u001b[32;1mGuestHeartbeatStatus : \u001b[0mgreen\n",
      "\u001b[32;1mLinkedView           : \u001b[0m\n",
      "\u001b[32;1mParent               : \u001b[0mFolder-group-v56\n",
      "\u001b[32;1mCustomValue          : \u001b[0m{}\n",
      "\u001b[32;1mOverallStatus        : \u001b[0mgreen\n",
      "\u001b[32;1mConfigStatus         : \u001b[0mgreen\n",
      "\u001b[32;1mConfigIssue          : \u001b[0m{}\n",
      "\u001b[32;1mEffectiveRole        : \u001b[0m{-1}\n",
      "\u001b[32;1mPermission           : \u001b[0m{}\n",
      "\u001b[32;1mName                 : \u001b[0mwin-jump\n",
      "\u001b[32;1mDisabledMethod       : \u001b[0m{Destroy_Task, UnregisterVM, UnmountToolsInstaller, AnswerVM…}\n",
      "\u001b[32;1mRecentTask           : \u001b[0m{}\n",
      "\u001b[32;1mDeclaredAlarmState   : \u001b[0m{alarm-10.vm-803039, alarm-112.vm-803039, alarm-12.vm-803039, \n",
      "                       alarm-128.vm-803039…}\n",
      "\u001b[32;1mTriggeredAlarmState  : \u001b[0m{}\n",
      "\u001b[32;1mAlarmActionsEnabled  : \u001b[0mTrue\n",
      "\u001b[32;1mTag                  : \u001b[0m{}\n",
      "\u001b[32;1mValue                : \u001b[0m{}\n",
      "\u001b[32;1mAvailableField       : \u001b[0m{com.vrlcm.snapshot}\n",
      "\u001b[32;1mMoRef                : \u001b[0mVirtualMachine-vm-803039\n",
      "\u001b[32;1mClient               : \u001b[0mVMware.Vim.VimClientImpl\n",
      "\n",
      "\n"
     ]
    }
   ],
   "source": [
    "#Get-View : vSphere Managed Object\n",
    "$ViewVMs = Get-View -ViewType VirtualMachine\n",
    "$ViewVM = $ViewVMs | Where-Object { $_.Name -eq 'win-jump' }\n",
    "$ViewVM"
   ]
  },
  {
   "attachments": {},
   "cell_type": "markdown",
   "metadata": {},
   "source": [
    "We will then take a look at all of the properties returned."
   ]
  },
  {
   "cell_type": "code",
   "execution_count": 7,
   "metadata": {
    "dotnet_interactive": {
     "language": "pwsh"
    },
    "polyglot_notebook": {
     "kernelName": "pwsh"
    }
   },
   "outputs": [
    {
     "name": "stdout",
     "output_type": "stream",
     "text": [
      "\n",
      "\u001b[32;1mCapability           : \u001b[0mVMware.Vim.VirtualMachineCapability\n",
      "\u001b[32;1mConfig               : \u001b[0mVMware.Vim.VirtualMachineConfigInfo\n",
      "\u001b[32;1mLayout               : \u001b[0mVMware.Vim.VirtualMachineFileLayout\n",
      "\u001b[32;1mLayoutEx             : \u001b[0mVMware.Vim.VirtualMachineFileLayoutEx\n",
      "\u001b[32;1mStorage              : \u001b[0mVMware.Vim.VirtualMachineStorageInfo\n",
      "\u001b[32;1mEnvironmentBrowser   : \u001b[0mEnvironmentBrowser-envbrowser-803039\n",
      "\u001b[32;1mResourcePool         : \u001b[0mResourcePool-resgroup-804077\n",
      "\u001b[32;1mParentVApp           : \u001b[0m\n",
      "\u001b[32;1mResourceConfig       : \u001b[0mVMware.Vim.ResourceConfigSpec\n",
      "\u001b[32;1mRuntime              : \u001b[0mVMware.Vim.VirtualMachineRuntimeInfo\n",
      "\u001b[32;1mGuest                : \u001b[0mVMware.Vim.GuestInfo\n",
      "\u001b[32;1mSummary              : \u001b[0mVMware.Vim.VirtualMachineSummary\n",
      "\u001b[32;1mDatastore            : \u001b[0m{Datastore-datastore-804098}\n",
      "\u001b[32;1mNetwork              : \u001b[0m{DistributedVirtualPortgroup-dvportgroup-64}\n",
      "\u001b[32;1mSnapshot             : \u001b[0m\n",
      "\u001b[32;1mRootSnapshot         : \u001b[0m{}\n",
      "\u001b[32;1mGuestHeartbeatStatus : \u001b[0mgreen\n",
      "\u001b[32;1mLinkedView           : \u001b[0m\n",
      "\u001b[32;1mParent               : \u001b[0mFolder-group-v56\n",
      "\u001b[32;1mCustomValue          : \u001b[0m{}\n",
      "\u001b[32;1mOverallStatus        : \u001b[0mgreen\n",
      "\u001b[32;1mConfigStatus         : \u001b[0mgreen\n",
      "\u001b[32;1mConfigIssue          : \u001b[0m{}\n",
      "\u001b[32;1mEffectiveRole        : \u001b[0m{-1}\n",
      "\u001b[32;1mPermission           : \u001b[0m{}\n",
      "\u001b[32;1mName                 : \u001b[0mwin-jump\n",
      "\u001b[32;1mDisabledMethod       : \u001b[0m{Destroy_Task, UnregisterVM, UnmountToolsInstaller, AnswerVM…}\n",
      "\u001b[32;1mRecentTask           : \u001b[0m{}\n",
      "\u001b[32;1mDeclaredAlarmState   : \u001b[0m{alarm-10.vm-803039, alarm-112.vm-803039, alarm-12.vm-803039, \n",
      "                       alarm-128.vm-803039…}\n",
      "\u001b[32;1mTriggeredAlarmState  : \u001b[0m{}\n",
      "\u001b[32;1mAlarmActionsEnabled  : \u001b[0mTrue\n",
      "\u001b[32;1mTag                  : \u001b[0m{}\n",
      "\u001b[32;1mValue                : \u001b[0m{}\n",
      "\u001b[32;1mAvailableField       : \u001b[0m{com.vrlcm.snapshot}\n",
      "\u001b[32;1mMoRef                : \u001b[0mVirtualMachine-vm-803039\n",
      "\u001b[32;1mClient               : \u001b[0mVMware.Vim.VimClientImpl\n",
      "\n",
      "\n"
     ]
    }
   ],
   "source": [
    "$ViewVM | Format-List -Property *"
   ]
  },
  {
   "attachments": {},
   "cell_type": "markdown",
   "metadata": {},
   "source": [
    "Finally, we will open up the snapshot information about the virtual machines.\n",
    "\n",
    "If we pay attention, we will see that the properties around snapshots are the same against both the .NET and vSphere objects."
   ]
  },
  {
   "cell_type": "code",
   "execution_count": 8,
   "metadata": {
    "dotnet_interactive": {
     "language": "pwsh"
    },
    "polyglot_notebook": {
     "kernelName": "pwsh"
    }
   },
   "outputs": [
    {
     "name": "stdout",
     "output_type": "stream",
     "text": [
      "\n",
      "\u001b[32;1mName                  Snapshot\u001b[0m\n",
      "\u001b[32;1m----                  --------\u001b[0m\n",
      "intersight-app        {[Metro_Cluster1_Prod02] intersight-app/intersight-app-Snapshot1.vmsn, [Metr…\n",
      "fslab-ad              {[FlashStack_ISO_ContLib] fslab-ad/fslab-ad-Snapshot1.vmsn, [FlashStack_ISO_…\n",
      "FS-WinJmp1            {[FlashStack-Misc] FS-WinJmp1/FS-WinJmp1-Snapshot1.vmsn, [FlashStack-Misc] F…\n",
      "postgresdb-test       {[FlashStack-Prod] postgresdb-test_1/postgresdb-test-Snapshot1.vmsn, [FlashS…\n",
      "fs-vidm               {[FlashStack-Prod] fs-vidm/fs-vidm-Snapshot1.vmsn, [FlashStack-Prod] fs-vidm…\n",
      "fs-vra                {[FlashStack-Prod] fs-vra/fs-vra-Snapshot1.vmsn, [FlashStack-Prod] fs-vra/fs…\n",
      "fs-vrlscm             {[FlashStack-Misc] fs-vrlscm/fs-vrlscm-Snapshot2.vmsn, [FlashStack-Misc] fs-…\n",
      "rheltemplate-fslab    {[FlashStack-Prod] rheltemplate-fslab/rheltemplate-fslab-Snapshot1.vmsn, [Fl…\n",
      "FlashStack-VC         {[FlashStack-Prod] FlashStack-VC/FlashStack-VC-Snapshot1.vmsn, [FlashStack-P…\n",
      "fs-linjmp01           {[FlashStack-Misc] fs-linjmp01/fs-linjmp01-Snapshot1.vmsn, [FlashStack-Misc]…\n",
      "fs-prometheuslab      {[FlashStack-Prod] fs-prometheuslab/fs-prometheuslab-Snapshot1.vmsn, [FlashS…\n",
      "fs-victoriametricslab {[FlashStack-Prod] fs-victoriametricslab/fs-victoriametricslab-Snapshot1.vms…\n",
      "orc-node1             {[FlashStack-Prod] orc-node1/orc-node1-Snapshot1.vmsn, [FlashStack-Prod] orc…\n",
      "orc-node2             {[FlashStack-Prod] orc-node2/orc-node2-Snapshot1.vmsn, [FlashStack-Prod] orc…\n",
      "\n"
     ]
    }
   ],
   "source": [
    "$ViewVMs | Select-Object Name, @{n = 'Snapshot'; e = {($_.Layout.Snapshot).SnapshotFile}} | `\n",
    "Where-Object Snapshot"
   ]
  },
  {
   "attachments": {},
   "cell_type": "markdown",
   "metadata": {},
   "source": [
    "To see all view types that exist, you can type `Get-View -ViewType ` and then use tab completion to see all of the view types which are available to select."
   ]
  }
 ],
 "metadata": {
  "kernelspec": {
   "display_name": ".NET (PowerShell)",
   "language": "PowerShell",
   "name": ".net-pwsh"
  },
  "language_info": {
   "name": "polyglot-notebook"
  },
  "polyglot_notebook": {
   "kernelInfo": {
    "defaultKernelName": "pwsh",
    "items": [
     {
      "aliases": [],
      "languageName": "pwsh",
      "name": "pwsh"
     }
    ]
   }
  }
 },
 "nbformat": 4,
 "nbformat_minor": 2
}
