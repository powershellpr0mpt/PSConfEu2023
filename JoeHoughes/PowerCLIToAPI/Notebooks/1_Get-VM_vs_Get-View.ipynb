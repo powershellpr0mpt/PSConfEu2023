{
 "cells": [
  {
   "attachments": {},
   "cell_type": "markdown",
   "metadata": {},
   "source": [
    "We'll start our PowerCLI demos with a comparison of the .NET object returned from the PowerCLI cmdlets such as `Get-VM`, and the vSphere object returned from `Get-View`.\n",
    "\n",
    "This entire vSphere complex object is also contained within the \"ExtensionData\" property of the .NET object returned from `Get-VM`.\n",
    "\n",
    "This is unknown to many PowerCLI users, but this is a significant part of why getting the .NET object takes so long to get.\n",
    "\n",
    "Let's start with connecting to our environment."
   ]
  },
  {
   "cell_type": "code",
   "execution_count": 2,
   "metadata": {
    "dotnet_interactive": {
     "language": "pwsh"
    },
    "polyglot_notebook": {
     "kernelName": "pwsh"
    }
   },
   "outputs": [],
   "source": [
    "$vCenterServer = 'flashstack-vcenter.puretec.purestorage.com'\n",
    "$vCenterUser= 'administrator@vsphere.local'\n",
    "$vCenterCred = Get-Credential -UserName $vCenterUser\n",
    "Connect-VIServer -Server $vCenterServer -Credential $vCenterCred -Protocol https -ErrorAction Stop"
   ]
  },
  {
   "attachments": {},
   "cell_type": "markdown",
   "metadata": {},
   "source": [
    "Now that we're connected, see how long it takes for us to use `Get-VM` to return a .NET object of a virtual machine.\n",
    "\n",
    "We will follow this by piping our virtual machine object to `Get-Snapshot` to get the snapshots for all of our virtual machines."
   ]
  },
  {
   "cell_type": "code",
   "execution_count": 3,
   "metadata": {
    "dotnet_interactive": {
     "language": "pwsh"
    },
    "polyglot_notebook": {
     "kernelName": "pwsh"
    }
   },
   "outputs": [
    {
     "name": "stdout",
     "output_type": "stream",
     "text": [
      "\n",
      "\u001b[32;1mVM                    Name\u001b[0m\n",
      "\u001b[32;1m--                    ----\u001b[0m\n",
      "orc-node2             os-install\n",
      "orc-node2             oracleasmsupport\n",
      "orc-node2             before useradd\n",
      "orc-node2             before nvme\n",
      "orc-node2             after NVMe setup\n",
      "orc-node2             P1\n",
      "orc-node2             p2\n",
      "orc-node1             os-install\n",
      "orc-node1             oracleasmsupport\n",
      "orc-node1             before useradd\n",
      "orc-node1             before nvme\n",
      "orc-node1             after NVMe setup\n",
      "orc-node1             before grid install\n",
      "orc-node1             P1\n",
      "orc-node1             p2\n",
      "postgresdb-test       OS install\n",
      "postgresdb-test       after ansible\n",
      "postgresdb-test       does successful\n",
      "fs-victoriametricslab before vmagent\n",
      "fs-prometheuslab      before\n",
      "fs-prometheuslab      before fdisk\n",
      "fs-prometheuslab      after prometheus\n",
      "fs-prometheuslab      after grafana\n",
      "fs-prometheuslab      after exporter\n",
      "fs-prometheuslab      before nodeexporter\n",
      "fs-prometheuslab      before pgexporter\n",
      "FlashStack-VC         Recovered - 4%2f12%2f2023, 1:57:42 PM\n",
      "intersight-app        pre-install\n",
      "fs-linjmp01           ansible before\n",
      "FS-WinJmp1            4April\n",
      "FS-WinJmp1            29 May\n",
      "fs-vidm               4April\n",
      "fs-vidm               5th April\n",
      "fs-vidm               20april\n",
      "fs-vidm               save from vijay\n",
      "fs-vrlscm             4April\n",
      "fs-vrlscm             5th April\n",
      "fs-vrlscm             20april\n",
      "fs-vrlscm             save from vijay\n",
      "fs-vra                4april\n",
      "fs-vra                5th april\n",
      "fs-vra                20april\n",
      "fs-vra                save from vijay\n",
      "fslab-ad              4april\n",
      "0.9418981\n",
      "\n"
     ]
    }
   ],
   "source": [
    "$Stopwatch = [System.Diagnostics.Stopwatch]::new()\n",
    "$Stopwatch.Start()\n",
    "\n",
    "$OverheadVMs = Get-VM\n",
    "$OverheadVMs | Get-Snapshot | Select-Object -Property VM, Name\n",
    "\n",
    "$Stopwatch.Stop()\n",
    "$Stopwatch.Elapsed.TotalSeconds"
   ]
  },
  {
   "attachments": {},
   "cell_type": "markdown",
   "metadata": {},
   "source": [
    "Now that we have our .NET object, we will use `Get-View` to return a .NET object of a virtual machine.\n",
    "\n",
    "Since this vSphere object contains the properties for our snapshot information of the virtual machine, we can get our snapshot details without the costly pipeline operation and querying with a second cmdlet."
   ]
  },
  {
   "cell_type": "code",
   "execution_count": 4,
   "metadata": {
    "dotnet_interactive": {
     "language": "pwsh"
    },
    "polyglot_notebook": {
     "kernelName": "pwsh"
    }
   },
   "outputs": [
    {
     "name": "stdout",
     "output_type": "stream",
     "text": [
      "\n",
      "\u001b[32;1mName                  Snapshot\u001b[0m\n",
      "\u001b[32;1m----                  --------\u001b[0m\n",
      "intersight-app        pre-install\n",
      "fslab-ad              4april\n",
      "FS-WinJmp1            4April\n",
      "postgresdb-test       OS install\n",
      "fs-vidm               4April\n",
      "fs-vra                4april\n",
      "fs-vrlscm             4April\n",
      "rheltemplate-fslab    rheltemplate-fslab_vm-1876_1\n",
      "FlashStack-VC         Recovered - 4%2f12%2f2023, 1:57:42 PM\n",
      "fs-linjmp01           ansible before\n",
      "fs-prometheuslab      before\n",
      "fs-victoriametricslab before vmagent\n",
      "orc-node1             os-install\n",
      "orc-node2             os-install\n",
      "0.712396\n",
      "\n"
     ]
    }
   ],
   "source": [
    "$Stopwatch = [System.Diagnostics.Stopwatch]::new()\n",
    "$Stopwatch.Start()\n",
    "\n",
    "$FastVMs = Get-View -ViewType VirtualMachine\n",
    "$FastVMs | Select-Object -Property Name, `\n",
    "@{n = 'Snapshot'; e = { $PSItem.Snapshot.RootSnapshotList[0].Name } } | `\n",
    "Where-Object Snapshot\n",
    "\n",
    "$Stopwatch.Stop()\n",
    "$Stopwatch.Elapsed.TotalSeconds"
   ]
  }
 ],
 "metadata": {
  "kernelspec": {
   "display_name": ".NET (PowerShell)",
   "language": "PowerShell",
   "name": ".net-pwsh"
  },
  "language_info": {
   "name": "polyglot-notebook"
  },
  "polyglot_notebook": {
   "kernelInfo": {
    "defaultKernelName": "pwsh",
    "items": [
     {
      "aliases": [],
      "languageName": "pwsh",
      "name": "pwsh"
     }
    ]
   }
  }
 },
 "nbformat": 4,
 "nbformat_minor": 2
}
