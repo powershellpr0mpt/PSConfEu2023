{
 "cells": [
  {
   "attachments": {},
   "cell_type": "markdown",
   "metadata": {},
   "source": [
    "## One-time pad: the perfect cipher\n",
    "The one-time pad belongs to the **polyalphabetic substitution** methods, in which the individual letters (or characters) are each converted (encoded) into other letters (or characters).\n",
    "\n",
    "<img src=\"otp.png\">\n",
    "\n",
    "\n",
    "https://en.wikipedia.org/wiki/One-time_pad"
   ]
  },
  {
   "cell_type": "code",
   "execution_count": null,
   "metadata": {
    "dotnet_interactive": {
     "language": "pwsh"
    },
    "polyglot_notebook": {
     "kernelName": "pwsh"
    },
    "vscode": {
     "languageId": "polyglot-notebook"
    }
   },
   "outputs": [],
   "source": [
    "## Convert numbers into letters\n",
    "[char]65\n",
    "[char]90"
   ]
  },
  {
   "attachments": {},
   "cell_type": "markdown",
   "metadata": {},
   "source": [
    "A PowerShell One-Time Pad"
   ]
  },
  {
   "cell_type": "code",
   "execution_count": null,
   "metadata": {
    "dotnet_interactive": {
     "language": "pwsh"
    },
    "polyglot_notebook": {
     "kernelName": "pwsh"
    },
    "vscode": {
     "languageId": "polyglot-notebook"
    }
   },
   "outputs": [],
   "source": [
    "$offset = 65\n",
    "\n",
    "## Create a ONE-TIME-PAD\n",
    "[string] $myRandomPad = [char[]] (Get-Random -InputObject (65..90) -Count 26) -join ''\n",
    "$myRandomPad\n",
    "$myRandomPad.Length\n",
    "\n",
    "$letter = 'A'\n",
    "$letter -match '^[A-Z]$'  ## Any number of times => '^[A-Z]+$'"
   ]
  },
  {
   "attachments": {},
   "cell_type": "markdown",
   "metadata": {},
   "source": [
    "Lets create a funtion to **decrypt**."
   ]
  },
  {
   "cell_type": "code",
   "execution_count": null,
   "metadata": {
    "dotnet_interactive": {
     "language": "pwsh"
    },
    "polyglot_notebook": {
     "kernelName": "pwsh"
    },
    "vscode": {
     "languageId": "polyglot-notebook"
    }
   },
   "outputs": [],
   "source": [
    "function enryptLetter {\n",
    "    param (\n",
    "        [byte][char]$letter, \n",
    "        [string]$otp\n",
    "    )\n",
    "    $offset = 65    \n",
    "    $otp[$letter - $offset]\n",
    "}\n",
    "enryptLetter -letter 'A' -otp $myRandomPad"
   ]
  },
  {
   "attachments": {},
   "cell_type": "markdown",
   "metadata": {},
   "source": [
    ".. and vice versa to **decrypt**: "
   ]
  },
  {
   "cell_type": "code",
   "execution_count": null,
   "metadata": {
    "dotnet_interactive": {
     "language": "pwsh"
    },
    "polyglot_notebook": {
     "kernelName": "pwsh"
    },
    "vscode": {
     "languageId": "polyglot-notebook"
    }
   },
   "outputs": [],
   "source": [
    "function decryptLetter {\n",
    "    param (\n",
    "        [byte][char]$letter, \n",
    "        [string]$otp\n",
    "    )\n",
    "    $offset = 65            \n",
    "    [char]($offset + $myRandomPad.IndexOf($letter))\n",
    "}\n",
    "decryptLetter -letter 'I' -otp $myRandomPad\n",
    "\n",
    "## Enrypt/Decrypt\n",
    "$cipher = enryptLetter -letter 'B' -otp $myRandomPad\n",
    "decryptLetter -letter $cipher -otp $myRandomPad"
   ]
  },
  {
   "attachments": {},
   "cell_type": "markdown",
   "metadata": {},
   "source": [
    "Let's create a cmdlet!"
   ]
  },
  {
   "cell_type": "code",
   "execution_count": null,
   "metadata": {
    "dotnet_interactive": {
     "language": "pwsh"
    },
    "polyglot_notebook": {
     "kernelName": "pwsh"
    },
    "vscode": {
     "languageId": "polyglot-notebook"
    }
   },
   "outputs": [],
   "source": [
    "function Convert-OTPMessage {\n",
    "    [CmdletBinding(DefaultParameterSetName = 'Enrypt')]\n",
    "    [Alias('crytp')]\n",
    "    param (        \n",
    "        ## [ValidatePattern('^[A-Z]$')]  <= Case agnostic        \n",
    "        [Parameter(ValueFromPipeline, ValueFromPipelineByPropertyName, ParameterSetName = 'Enrypt', Position = 0)]\n",
    "        [ValidateScript({ $_ -cmatch '^[A-Z]$' })] ## Case sensitive        \n",
    "        [char[]] $letters,\n",
    "        \n",
    "        [Parameter(ValueFromPipeline, ValueFromPipelineByPropertyName, ParameterSetName = 'Decrypt', Position = 0)]\n",
    "        [ValidateScript({ $_ -cmatch '^[A-Z]$' })]\n",
    "        [char[]] $encryptedLetters,\n",
    "\n",
    "        [Parameter(ValueFromPipelineByPropertyName, ParameterSetName = 'Decrypt', Position = 1)]\n",
    "        [switch] $decrypt,\n",
    "\n",
    "        [Parameter(ValueFromPipelineByPropertyName, ParameterSetName = 'Decrypt', Position = 2)]\n",
    "        [string[]]$otp\n",
    "    )            \n",
    "    process {\n",
    "        $offset = 65\n",
    "        if ($decrypt) {                        \n",
    "            foreach ($encryptedLetter in [byte[]]$encryptedLetters) {                    \n",
    "                [PSCustomObject]@{                    \n",
    "                    'decryptedLetters' = [char] ($otp[0].IndexOf($encryptedLetter) + 65)\n",
    "                    'encryptedLetters' = [char] $encryptedLetter                    \n",
    "                    'otp'              = $otp\n",
    "                }     \n",
    "            }                        \n",
    "        }\n",
    "        else {\n",
    "            foreach ($letter in [byte[]]$letters) {    \n",
    "                ## Generating a new random OTP for every letter provided    \n",
    "                [string] $otp = [char[]] (Get-Random -InputObject (65..90) -Count 26) -join ''\n",
    "                \n",
    "                ## Substitue any given letter with the equivalent from the OTP        \n",
    "                [PSCustomObject]@{\n",
    "                    'letters'          = [char] $letter\n",
    "                    'encryptedLetters' = $otp[$letter - $offset]\n",
    "                    'otp'              = $otp\n",
    "                }        \n",
    "            }\n",
    "        }\n",
    "    }\n",
    "}\n",
    "\n",
    "## A\n",
    "$message = Convert-OTPMessage -letters 'WEATHERFORECAST'\n",
    "$message \n",
    "\n",
    "## B\n",
    "#($message | Select-Object -Property 'encryptedLetters', 'otp' | \n",
    "#  Convert-OTPMessage -decrypt).decryptedLetters -join ''\n",
    "\n",
    "## C\n",
    "# crytp PSCONFEU  | crytp -decrypt"
   ]
  }
 ],
 "metadata": {
  "kernelspec": {
   "display_name": ".NET (PowerShell)",
   "language": "PowerShell",
   "name": ".net-powershell"
  },
  "language_info": {
   "file_extension": ".ps1",
   "mimetype": "text/x-powershell",
   "name": "PowerShell",
   "pygments_lexer": "powershell",
   "version": "7.0"
  },
  "orig_nbformat": 4,
  "polyglot_notebook": {
   "kernelInfo": {
    "defaultKernelName": "csharp",
    "items": [
     {
      "aliases": [],
      "name": "csharp"
     }
    ]
   }
  }
 },
 "nbformat": 4,
 "nbformat_minor": 2
}
