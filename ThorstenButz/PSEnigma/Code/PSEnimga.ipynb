{
 "cells": [
  {
   "attachments": {},
   "cell_type": "markdown",
   "metadata": {},
   "source": [
    "## The Enigma Code\n",
    "\n",
    "#### Step 1: Basic helper functions"
   ]
  },
  {
   "cell_type": "code",
   "execution_count": null,
   "metadata": {
    "dotnet_interactive": {
     "language": "powershell"
    },
    "polyglot_notebook": {
     "kernelName": "powershell"
    },
    "vscode": {
     "languageId": "powershell"
    }
   },
   "outputs": [],
   "source": [
    "## str2num\n",
    "function str2num ([char[]] $text) {\n",
    "    foreach ($letter in $text) {\n",
    "        [byte] [char] $letter - 65\n",
    "    }\n",
    "}\n",
    "\n",
    "## rotate\n",
    "function rotate {    \n",
    "    Param (        \n",
    "        [array] $in,                \n",
    "        [int] $offset, \n",
    "        [bool] $mimicDeque = $true\n",
    "    )\n",
    "    Process {\n",
    "        if ($mimicDeque) { $offset = - $offset }        \n",
    "        if ($offset -lt 1) { \n",
    "            $offset = $offset + $in.count\n",
    "        }    \n",
    "\n",
    "        for ($i = 1; $i -le $offset; $i++) { \n",
    "            $first, $rest = $in\n",
    "            $in = $rest += $first\n",
    "        }\n",
    "        $in\n",
    "    }                    \n",
    "}   \n",
    "\n",
    "## Test functions\n",
    "#str2num 'ABC'\n",
    "#'--'\n",
    "#rotate (str2num 'ABC') \n",
    "\n",
    "## group output\n",
    "function groupify {\n",
    "    param ( \n",
    "        [Parameter(ValueFromPipeline)]        \n",
    "        [string] $text,\n",
    "        [int] $chunksize = 5,\n",
    "        [switch] $wordmode\n",
    "    )\n",
    "    process {    \n",
    "        Write-Verbose -Message \"String length: $($text.length) characters\" \n",
    "        if ($wordmode) {\n",
    "            #$newStr = $text -replace '(?:[^ ]* ){5}[^ ]* ', \"$&`n\"\n",
    "            $newStr = $text -replace \"(?:[^ ]* ){$($chunksize-1)}[^ ]* \", \"$&`n\"\n",
    "            $newStr.TrimEnd(\"`n\")\n",
    "        } \n",
    "        else {\n",
    "            $chunks = [regex]::Matches($text, \".{1,$chunksize}\") | Select-Object -ExpandProperty Value\n",
    "            for ($i = 0; $i -lt $chunks.Count; $i += $chunksize) {\n",
    "                $chunks[$i..($i + $chunksize - 1)] -join \" \"            \n",
    "            }\n",
    "        }\n",
    "    }\n",
    "}"
   ]
  },
  {
   "attachments": {},
   "cell_type": "markdown",
   "metadata": {},
   "source": [
    "### Step 2: Predefined characteristics\n"
   ]
  },
  {
   "cell_type": "markdown",
   "metadata": {
    "vscode": {
     "languageId": "powershell"
    }
   },
   "source": [
    "## Rotors and wiring (Walzen)\n",
    "## https://en.wikipedia.org/wiki/Enigma_rotor_details\n",
    "## https://de.wikipedia.org/wiki/Enigma-Rotors\n",
    "\n",
    "[string[]] $rotors_r = # Wiring schema: rotors (Walzen) right side \n",
    "'EKMFLGDQVZNTOWYHXUSPAIBRCJ', # I    (Enigma 1, 1930)\n",
    "'AJDKSIRUXBLHWTMCQGZNPYFVOE', # II   (Enigma 1, 1930)\n",
    "'BDFHJLCPRTXVZNYEIWGAKMUSQO', # III  (Enigma 1, 1930)\n",
    "'ESOVPZJAYQUIRHXLNFTGKDCMWB', # IV   (Enigma M3/Heer, 1938)\n",
    "'VZBRGITYUPSDNHLXAWMJQOFECK', # V    (Enigma M3/Heer, 1938)\n",
    "'JPGVOUMFYQBENHZRDKASXLICTW', # VI   (Enigma M3/M4, 1939)    // future use\n",
    "'NZJHGRCXMYSWBOUFAIVLPEKQDT', # VII  (Enigma M3/M4, 1939)    // future use\n",
    "'FKQHTLXOCBJSPDZRAMEWNIUYGV'  # VIII (Enigma M3/M4, 1939)    // future use\n",
    "\n",
    "## Reflectors (Umkehrwalzen)\n",
    "[string[]] $reflectors = \n",
    "'EJMZALYXVBWFCRQUONTSPIKHGD', # Reflector A \n",
    "'YRUHQSLDPXNGOKMIEBFZCWVJAT', # Reflector B \n",
    "'FVPJIAOYEDRZXWGCTKUQSBNMHL'  # Reflector C \n",
    "\n",
    "## Turnover notch positions (Übertragskerben)\n",
    "$notchPositions = \"Q E V J Z ZM ZM ZM\"\n",
    "\n",
    "## Converting letters into numbers \n",
    "[System.Collections.ArrayList] $alRotors_r = @()\n",
    "foreach ($walze in $rotors_r) { [void] $alRotors_r.Add((str2num $walze)) }\n",
    "\n",
    "[System.Collections.ArrayList] $alReflectors = @()\n",
    "foreach ($reflector in $reflectors) { [void] $alReflectors.Add((str2num $reflector)) }\n",
    "\n",
    "[System.Collections.ArrayList] $alNotchPositions = @()\n",
    "foreach ($notches in $notchPositions.Split()) { [void] $alNotchPositions.Add((str2num $notches)) }\n",
    "\n",
    "## The wiring on the left side of the rotors follows the alphabet (A-Z)\n",
    "[System.Collections.ArrayList] $alRotors_l = 0..25\n"
   ]
  },
  {
   "cell_type": "code",
   "execution_count": null,
   "metadata": {
    "dotnet_interactive": {
     "language": "pwsh"
    },
    "polyglot_notebook": {
     "kernelName": "pwsh"
    }
   },
   "outputs": [],
   "source": [
    "### Step 3: Classes\n",
    "\n",
    "A single rotor is defined by:\n",
    "- Which rotor from the set of rotors? (e.g. no 2)\n",
    "- A ring setting (e.g. no 23)\n",
    "- A single letter from the **\"message_key\"**"
   ]
  },
  {
   "cell_type": "code",
   "execution_count": null,
   "metadata": {
    "dotnet_interactive": {
     "language": "pwsh"
    },
    "polyglot_notebook": {
     "kernelName": "pwsh"
    }
   },
   "outputs": [],
   "source": [
    "class Rotor {\n",
    "    ## Class properties\n",
    "    $no\n",
    "    $message_key\n",
    "    $ring_pos\n",
    "    $offset            # Debugging\n",
    "    $wiring_l\n",
    "    $wiring_l_letters  # Debugging\n",
    "    $wiring_r\n",
    "    $wiring_r_letters  # Debugging\n",
    "    $notches\n",
    "    $notches_letters   # Debugging                \n",
    "    $turnover_pos\n",
    "\n",
    "    ## Class constructor\n",
    "    Rotor($no, $message_key, $ring_pos) {\n",
    "        $this.no = $no  # Rotor 1 =>  $rotor_r[0]\n",
    "        $this.message_key = $message_key\n",
    "        $this.ring_pos = $ring_pos       \n",
    "        $this.setup() \n",
    "    }\n",
    "\n",
    "    ## Class methods\n",
    "    [void]setup() {        \n",
    "        $this.offset = $this.ring_pos - $this.message_key                \n",
    "        $this.wiring_l = rotate -in $script:alRotors_l -offset $this.offset\n",
    "        $this.wiring_r = rotate -in $script:alRotors_r[$this.no-1] -offset $this.offset\n",
    "        \n",
    "        $this.notches = @()\n",
    "        $this.notches_letters = @()\n",
    "        foreach ($k in $script:alNotchPositions[$this.no-1] ) {\n",
    "            $this.notches_letters += [char] $(((($k - $this.ring_pos)+26) % 26) + 65)      # Debugging\n",
    "            $this.notches += (($k - $this.ring_pos)+26) % 26   # Mind the gap: positiv modulo !\n",
    "            $this.turnover_pos = $this.turnover()\n",
    "            $this.turnover_pos = $this.turnover() \n",
    "        } \n",
    "\n",
    "        ## Debugging\n",
    "        $this.wiring_l_letters = $(foreach ($number in $this.wiring_l ) { [char] ($number + 65)}) -join ''\n",
    "        $this.wiring_r_letters = $(foreach ($number in $this.wiring_r ) { [char] ($number + 65)}) -join ''        \n",
    "    }\n",
    "\n",
    "    [void]click() {\n",
    "        $this.wiring_l = rotate -in $this.wiring_l -offset -1\n",
    "        $this.wiring_r = rotate -in $this.wiring_r -offset -1        \n",
    "        \n",
    "        ## Debugging\n",
    "        $this.wiring_l_letters = $(foreach ($number in $this.wiring_l ) { [char] ($number + 65)}) -join ''\n",
    "        $this.wiring_r_letters = $(foreach ($number in $this.wiring_r ) { [char] ($number + 65)}) -join ''        \n",
    "        $this.turnover_pos = $this.turnover()         \n",
    "    }\n",
    "    \n",
    "    ## Debugging\n",
    "    [bool]turnover() {    \n",
    "        if ($this.wiring_l[0] -in $this.notches) {return $true} else { return $false }        \n",
    "    } \n",
    "}\n",
    "\n",
    "##  Test [Rotor]\n",
    "#$testRotor = [Rotor]::new(1,0,0)\n",
    "#$testRotor.click()\n",
    "#$testRotor.turnover()\n",
    "#$testRotor\n",
    "\n",
    "class Enigma {\n",
    "    ## Class properties\n",
    "    [Array] $rotors\n",
    "    [Array] $reflector\n",
    "    [Hashtable] $plugboard = @{}\n",
    "    $alReflectors = $alReflectors\n",
    "\n",
    "    ## Class constructor\n",
    "    Enigma(){}\n",
    "\n",
    "    ## Class method(s)    \n",
    "    ## Example: $myEnigma.setup(2, (2,4,5), \"BLA\", (2,21,12), \"AV BS CG DL FU HZ IN KM OW RX\")   \n",
    "    setup($reflector_sel,$wheel_order,$message_key,$ring_pos,$plugboard_config) {\n",
    "        \n",
    "        # $reflector_sel: Which reflector (Umkehrwalze) was selected => 1,2,3\n",
    "        $this.reflector = $this.alReflectors[$reflector_sel-1] \n",
    "        \n",
    "        ## Wheel order (Walzenlage): 3 wheels from the wheel set and their position (left,middle,right/fast)        \n",
    "        foreach ($i in 0..2) {\n",
    "            ## Wert 1: Walzennummer 1 bis 8\n",
    "            $currentWheel = $wheel_order[$i]    ## -1 bereits in Walze abgezogen\n",
    "            \n",
    "            ## Wert 2: Wheel position: from letter to number\n",
    "            $wheelpos = [byte] [char] $message_key[$i] - 65 \n",
    "\n",
    "            ## Wert 3: Ring setting (Ringposition) as number \n",
    "            $ringpos = $ring_pos[$i] - 1   ##  Mind the gap!\n",
    "            $this.rotors += [Rotor]::new($currentWheel,$wheelpos,$ringpos)                                        \n",
    "        }\n",
    "\n",
    "\n",
    "        ##  Convert plugboard configuration into a hashtable\n",
    "        foreach ($pair in $plugboard_config.Split()) {        \n",
    "            $a = [byte][char]$pair[0]-65\n",
    "            $b = [byte][char]$pair[1]-65    \n",
    "            \n",
    "            $this.plugboard[$a]=$b\n",
    "            $this.plugboard[$b]=$a        \n",
    "        }\n",
    "    }\n",
    "    \n",
    "    [void] rotate(){\n",
    "        $leftWheel, $centerWheel, $rightWheel = $this.rotors    \n",
    "        \n",
    "        ## The enigma anomaly: \n",
    "        ## https://www.cryptomuseum.com/crypto/enigma/working.htm#double\n",
    "        ## https://de.wikipedia.org/wiki/Enigma_(Maschine)#Anomalie\n",
    "        if ($centerWheel.turnover()) {\n",
    "            $centerWheel.click()  ## Anomaly \n",
    "            $leftWheel.click()\n",
    "        }\n",
    "        elseif ($rightWheel.turnover()) {\n",
    "            $centerWheel.click()\n",
    "        }\n",
    "        $rightWheel.click()\n",
    "    }\n",
    "}"
   ]
  },
  {
   "attachments": {},
   "cell_type": "markdown",
   "metadata": {},
   "source": [
    "### Step 4: Translate"
   ]
  },
  {
   "cell_type": "code",
   "execution_count": null,
   "metadata": {
    "dotnet_interactive": {
     "language": "pwsh"
    },
    "polyglot_notebook": {
     "kernelName": "pwsh"
    }
   },
   "outputs": [],
   "source": [
    "function translate {\n",
    "    param (\n",
    "        [string] $text = 'ABC',\n",
    "        [Enigma] $e \n",
    "    )\n",
    "    $text = $text.ToUpper()    \n",
    "    $u_text = @()\n",
    "\n",
    "    foreach ($c in [char[]] $text) {\n",
    "\n",
    "        $c = ([byte]$c - 65)                  \n",
    "        if ($c -lt 0 -or $c -gt 25) { continue }        \n",
    "        $e.rotate()\n",
    "        \n",
    "        ## Plugboard (at the beginning)\n",
    "        $c = if ($e.plugboard[$c] -ne $null) { $e.plugboard[$c] } else { $c } # Mind the \"0\"!\n",
    "        \n",
    "        ## Iterate in reverse order: right to left\n",
    "        foreach ($i in ($e.rotors.count-1)..0) {              \n",
    "            $w = $e.rotors[$i]        ## Current wheel\n",
    "            $c = $w.wiring_r[$c]          \n",
    "            $c = $w.wiring_l.IndexOf($c)         \n",
    "        }\n",
    "\n",
    "        ## Reflector\n",
    "        $c = $e.reflector[$c]        \n",
    "\n",
    "        # Iterate (on the way back: left to right)\n",
    "        foreach ($i in 0..($e.rotors.count-1)) {\n",
    "            $w = $e.rotors[$i]            \n",
    "            $c = $w.wiring_l[$c]        \n",
    "            $c = $w.wiring_r.IndexOf($c)        \n",
    "        }\n",
    "        \n",
    "        ## Plugboard (at the ende)\n",
    "        $c = if ($e.plugboard[$c] -ne $null) { $e.plugboard[$c] } else { $c } # Mind the \"0\" again!              \n",
    "        \n",
    "        ## Save the result\n",
    "        $u_text += [char]($c + 65)\n",
    "    } \n",
    "    ## Return the result\n",
    "    $u_text -join ''\n",
    "}"
   ]
  },
  {
   "attachments": {},
   "cell_type": "markdown",
   "metadata": {},
   "source": [
    "### Finally, Step 5: Encrypt/Decrypt\n",
    "#### Test A"
   ]
  },
  {
   "cell_type": "code",
   "execution_count": null,
   "metadata": {
    "dotnet_interactive": {
     "language": "pwsh"
    },
    "polyglot_notebook": {
     "kernelName": "pwsh"
    }
   },
   "outputs": [],
   "source": [
    "## Test A1: simple test without plugboard\n",
    "$testEnigma = [Enigma]::new()\n",
    "$testEnigma.setup(2, (1,2,3), 'CAT', (1,1,1), \"\")   \n",
    "translate -text 'HELLOWORLD' -e $testEnigma  \n",
    "\n",
    "## Expected result:\n",
    "## MMDIIZCLYW"
   ]
  },
  {
   "cell_type": "code",
   "execution_count": null,
   "metadata": {
    "dotnet_interactive": {
     "language": "pwsh"
    },
    "polyglot_notebook": {
     "kernelName": "pwsh"
    }
   },
   "outputs": [],
   "source": [
    "## Test A2: decrypt <=> encrpyt \n",
    "$testEnigma = [Enigma]::new()\n",
    "$testEnigma.setup(2, (1,2,3), 'CAT', (1,1,1), '')   \n",
    "translate -text 'MMDIIZCLYW' -e $testEnigma  "
   ]
  },
  {
   "attachments": {},
   "cell_type": "markdown",
   "metadata": {},
   "source": [
    "#### Test B\n",
    "<img src=\"ms.png\">"
   ]
  },
  {
   "cell_type": "code",
   "execution_count": null,
   "metadata": {
    "dotnet_interactive": {
     "language": "pwsh"
    },
    "polyglot_notebook": {
     "kernelName": "pwsh"
    }
   },
   "outputs": [],
   "source": [
    "## Test B: Day 31\n",
    "$testEnigma = [Enigma]::new() \n",
    "$testEnigma.setup(2, (5,2,4), \"CZK\", (17,09,02), 'KT AJ IV UR NY HZ GD XF PB CQ')\n",
    "translate -text 'WETTERVORHERSAGE' -e $testEnigma  \n",
    "\n",
    "$testEnigma = [Enigma]::new() \n",
    "$testEnigma.setup(2, (5,2,4), \"CZK\", (17,09,02), 'KT AJ IV UR NY HZ GD XF PB CQ')\n",
    "translate -text 'IVSAYSJRIAVYUFAY' -e $testEnigma"
   ]
  },
  {
   "attachments": {},
   "cell_type": "markdown",
   "metadata": {},
   "source": [
    "### A real Enigma message from WW II\n",
    "\n",
    "- https://www.sarcnet.org/the-enigma-project.html\n",
    "- http://wiki.franklinheath.co.uk/index.php/Enigma/Sample_Messages\n",
    "- http://wiki.franklinheath.co.uk/index.php/Enigma/Sample_Decrypts\n"
   ]
  },
  {
   "cell_type": "code",
   "execution_count": null,
   "metadata": {
    "dotnet_interactive": {
     "language": "pwsh"
    },
    "polyglot_notebook": {
     "kernelName": "pwsh"
    }
   },
   "outputs": [],
   "source": [
    "$testEnigma = [Enigma]::new()\n",
    "$testEnigma.setup(2, (2,4,5), 'LSD', (2,21,12), 'AV BS CG DL FU HZ IN KM OW RX')   \n",
    "$cipherText = @'\n",
    "SFBWD NJUSE GQOBH KRTAR EEZMW\n",
    "KPPRB XOHDR OEQGB BGTQV PGVKB\n",
    "VVGBI MHUSZ YDAJQ IROAX SSSNR\n",
    "EHYGG RPISE ZBOVM QIEMM ZCYSG\n",
    "QDGRE RVBIL EKXYQ IRGIR QNRDN\n",
    "VRXCY YTNJR\n",
    "'@\n",
    "$rawResult = translate -text $cipherText -e $testEnigma  \n",
    "#$rawResult\n",
    "\n",
    "$rawResult | groupify | Set-Clipboard -PassThru\n"
   ]
  }
 ],
 "metadata": {
  "kernelspec": {
   "display_name": ".NET (C#)",
   "language": "C#",
   "name": ".net-csharp"
  },
  "language_info": {
   "file_extension": ".ps1",
   "mimetype": "text/x-powershell",
   "name": "polyglot-notebook",
   "pygments_lexer": "powershell",
   "version": "7.0"
  },
  "orig_nbformat": 4,
  "polyglot_notebook": {
   "kernelInfo": {
    "defaultKernelName": "csharp",
    "items": [
     {
      "aliases": [],
      "name": "csharp"
     },
     {
      "aliases": [],
      "name": "powershell"
     }
    ]
   }
  }
 },
 "nbformat": 4,
 "nbformat_minor": 2
}
